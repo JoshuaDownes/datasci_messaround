{
 "cells": [
  {
   "cell_type": "code",
   "execution_count": 26,
   "metadata": {
    "collapsed": false,
    "scrolled": true
   },
   "outputs": [
    {
     "name": "stdout",
     "output_type": "stream",
     "text": [
      "Training Examples:\t50000\n",
      "Validation Examples:\t10000\n",
      "Testing Examples:\t10000\n",
      "Number of parameters per example: 784\n",
      "\n",
      "Example (0)\n"
     ]
    },
    {
     "data": {
      "text/plain": [
       "<matplotlib.image.AxesImage at 0x7feea17fd090>"
      ]
     },
     "execution_count": 26,
     "metadata": {},
     "output_type": "execute_result"
    },
    {
     "data": {
      "image/png": "[encoded data removed]",
      "text/plain": [
       "<matplotlib.figure.Figure at 0x7fee88f6cdd0>"
      ]
     },
     "metadata": {},
     "output_type": "display_data"
    }
   ],
   "source": [
    "%matplotlib inline\n",
    "import cPickle\n",
    "import gzip\n",
    "import numpy as np\n",
    "import matplotlib.pyplot as plt\n",
    "import matplotlib.cm as cm\n",
    "import random\n",
    "\n",
    "# Load our sets\n",
    "f = gzip.open(\"mnist.pkl.gz\",\"r\")\n",
    "train_set, valid_set, test_set = cPickle.load(f)\n",
    "\n",
    "# Shape of each set\n",
    "print(\"Training Examples:\\t\" + str(train_set[1].shape[0]))\n",
    "print(\"Validation Examples:\\t\" + str(valid_set[1].shape[0]))\n",
    "print(\"Testing Examples:\\t\" + str(test_set[1].shape[0]))\n",
    "print(\"Number of parameters per example: \" + str(train_set[0].shape[1]) + \"\\n\")\n",
    "\n",
    "# We set X and y to only the first 5000 examples for the sake of computation time\n",
    "X = train_set[0][:5000]\n",
    "y = train_set[1][:5000]\n",
    "\n",
    "# Validation sets are set to first 2000\n",
    "X_val = valid_set[0][:2000]\n",
    "y_val = valid_set[1][:2000]\n",
    "\n",
    "# Testing set to 2000\n",
    "X_test = test_set[0][:2000]\n",
    "y_test = test_set[1][:2000]\n",
    "\n",
    "# Visualization of example\n",
    "ex_num = random.randint(0,train_set[1].shape[0]);\n",
    "print(\"Example (\" + str(train_set[1][ex_num]) + \")\")\n",
    "train_example_formatted = train_set[0][ex_num].reshape((28,-1))\n",
    "plt.imshow(train_example_formatted, cmap=cm.binary)\n"
   ]
  },
  {
   "cell_type": "code",
   "execution_count": 27,
   "metadata": {
    "collapsed": false
   },
   "outputs": [
    {
     "data": {
      "text/plain": [
       "SVC(C=1, cache_size=200, class_weight=None, coef0=0.0,\n",
       "  decision_function_shape=None, degree=3, gamma='auto', kernel='linear',\n",
       "  max_iter=-1, probability=False, random_state=None, shrinking=True,\n",
       "  tol=0.001, verbose=False)"
      ]
     },
     "execution_count": 27,
     "metadata": {},
     "output_type": "execute_result"
    }
   ],
   "source": [
    "# Sci kit learn simple SVC\n",
    "from sklearn.svm import SVC\n",
    "clf = SVC(kernel='linear', C=1)\n",
    "clf.fit(X,y)"
   ]
  },
  {
   "cell_type": "code",
   "execution_count": 28,
   "metadata": {
    "collapsed": false
   },
   "outputs": [
    {
     "name": "stdout",
     "output_type": "stream",
     "text": [
      "0.874\n"
     ]
    }
   ],
   "source": [
    "# Prediction accuracy\n",
    "\n",
    "#predictions = clf.predict(test_set[0][:1000])\n",
    "#p = [1 if predictions[i] == test_set[1][i] else 0 for i in range(1000)]\n",
    "#print(np.mean(p))\n",
    "\n",
    "# Equal built in function\n",
    "print(clf.score(X_test, y_test))"
   ]
  },
  {
   "cell_type": "code",
   "execution_count": 30,
   "metadata": {
    "collapsed": false
   },
   "outputs": [],
   "source": [
    "# Random forest with cross validation\n",
    "from sklearn import cross_validation\n",
    "from sklearn.ensemble import RandomForestClassifier\n",
    "\n",
    "# Number of Estimators\n",
    "n_estimators = [5,20,150]\n",
    "min_samples_split = [2,4,8,15]\n",
    "min_samples_leaf = [1,2,4,8]\n",
    "\n",
    "# To keep track of best hyperparams\n",
    "best_n_estimators = 5\n",
    "best_min_samples_split = 2\n",
    "best_min_samples_leaf = 1\n",
    "\n",
    "# To keep track of best score\n",
    "best_score = 0"
   ]
  },
  {
   "cell_type": "code",
   "execution_count": 31,
   "metadata": {
    "collapsed": false
   },
   "outputs": [
    {
     "name": "stdout",
     "output_type": "stream",
     "text": [
      "Params:\n",
      "Number of estimators:\t150\n",
      "Min Samples per Split:\t8\n",
      "Min Samples per Leaf:\t1\n",
      "Best Score on Validation Data: 0.915068304098\n"
     ]
    }
   ],
   "source": [
    "# 3*4*4 = 48 total hyperparameters\n",
    "for n_est in n_estimators:\n",
    "    for min_ss in min_samples_split:\n",
    "        for min_sl in min_samples_leaf:\n",
    "            rfc = RandomForestClassifier(random_state=1,n_estimators=n_est,min_samples_split=min_ss,min_samples_leaf=min_sl)\n",
    "            score = np.mean(cross_validation.cross_val_score(rfc, X_val, y_val, cv=3))\n",
    "            if score > best_score:\n",
    "                best_score = score\n",
    "                best_n_estimators = n_est\n",
    "                best_min_samples_split = min_ss\n",
    "                best_min_samples_leaf = min_sl\n",
    "\n",
    "            \n",
    "print(\"Params:\\nNumber of estimators:\\t\" + str(best_n_estimators) \n",
    "      + \"\\nMin Samples per Split:\\t\" + str(best_min_samples_split) \n",
    "      + \"\\nMin Samples per Leaf:\\t\" + str(best_min_samples_leaf) \n",
    "      + \"\\nBest Score on Validation Data: \" + str(best_score))\n"
   ]
  },
  {
   "cell_type": "code",
   "execution_count": 25,
   "metadata": {
    "collapsed": false
   },
   "outputs": [
    {
     "name": "stdout",
     "output_type": "stream",
     "text": [
      "0.9105\n"
     ]
    }
   ],
   "source": [
    "# Create classifier with our best params\n",
    "rfc = RandomForestClassifier(random_state=1, n_estimators=best_n_estimators, min_samples_split=best_min_samples_split,\n",
    "                            min_samples_leaf=best_min_samples_leaf)\n",
    "rfc.fit(X,y)\n",
    "print(rfc.score(X_test,y_test))"
   ]
  },
  {
   "cell_type": "code",
   "execution_count": null,
   "metadata": {
    "collapsed": true
   },
   "outputs": [],
   "source": [
    "# Sklearn chaining pca and logistic regression\n",
    "from sklearn.linear_model import LogisticRegression\n",
    "from sklearn.decomposition import PCA\n",
    "from sklearn.pipeline import Pipeline\n",
    "\n",
    "pca = PCA()\n",
    "logisticregression = LogisticRegression()\n",
    "pipe=Pipeline(steps=[('pca',pca),('logisticregression',logisticregression)])"
   ]
  }
 ],
 "metadata": {
  "kernelspec": {
   "display_name": "Python 2",
   "language": "python",
   "name": "python2"
  },
  "language_info": {
   "codemirror_mode": {
    "name": "ipython",
    "version": 2
   },
   "file_extension": ".py",
   "mimetype": "text/x-python",
   "name": "python",
   "nbconvert_exporter": "python",
   "pygments_lexer": "ipython2",
   "version": "2.7.11"
  }
 },
 "nbformat": 4,
 "nbformat_minor": 0
}
